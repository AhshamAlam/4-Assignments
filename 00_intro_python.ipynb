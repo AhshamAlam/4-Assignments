{
  "nbformat": 4,
  "nbformat_minor": 0,
  "metadata": {
    "colab": {
      "provenance": [],
      "authorship_tag": "ABX9TyNfi1aWLjoCwqd2PuWBP6wS",
      "include_colab_link": true
    },
    "kernelspec": {
      "name": "python3",
      "display_name": "Python 3"
    },
    "language_info": {
      "name": "python"
    }
  },
  "cells": [
    {
      "cell_type": "markdown",
      "metadata": {
        "id": "view-in-github",
        "colab_type": "text"
      },
      "source": [
        "<a href=\"https://colab.research.google.com/github/AhshamAlam/4-Assignments/blob/main/00_intro_python.ipynb\" target=\"_parent\"><img src=\"https://colab.research.google.com/assets/colab-badge.svg\" alt=\"Open In Colab\"/></a>"
      ]
    },
    {
      "cell_type": "markdown",
      "source": [
        "#**01 Problem Statement**\n",
        "**Write a Python program that takes two integer inputs from the user and calculates their sum. The program should perform the following tasks:**\n",
        "\n",
        "1.   Prompt the user to enter the first number.\n",
        "2.   Read the input and convert it to an integer.\n",
        "3. Prompt the user to enter the second number.\n",
        "4. Read the input and convert it to an integer.\n",
        "5. Calculate the sum of the two numbers.\n",
        "6. Print the total sum with an appropriate message."
      ],
      "metadata": {
        "id": "eifp6hef50_a"
      }
    },
    {
      "cell_type": "markdown",
      "source": [
        "#**Solution**"
      ],
      "metadata": {
        "id": "EIHrOJFQ6p_9"
      }
    },
    {
      "cell_type": "code",
      "source": [
        "'''\n",
        "Program: add_two\n",
        "----------------\n",
        "Python program to get some practice with\n",
        "variables.  This program asks the user for two\n",
        "integers and prints their sum.\n",
        "'''\n",
        "\n",
        "def main():\n",
        "  print(\"This Program Adds Two Numbers\")\n",
        "  num1 : str = input(\"Enter the first number: \")\n",
        "  num1 : int = int(num1)\n",
        "  num2 : str = input (\"Enter the second number: \")\n",
        "  num2 : int = int(num2)\n",
        "\n",
        "  total : int = num1 + num2\n",
        "  print(\"The total is \"+ str(total) + \".\")\n",
        "\n",
        "# This provided line is required at the end of\n",
        "# Python file to call the main() function.\n",
        "if __name__ == '__main__':\n",
        "  main()"
      ],
      "metadata": {
        "colab": {
          "base_uri": "https://localhost:8080/"
        },
        "id": "VbPgthYu6uO_",
        "outputId": "d8d48714-3534-47cf-874e-ec7952a0f6a1"
      },
      "execution_count": null,
      "outputs": [
        {
          "output_type": "stream",
          "name": "stdout",
          "text": [
            "This Program Adds Two Numbers\n",
            "Enter the first number: 2\n",
            "Enter the second number: 2\n",
            "The total is 4.\n"
          ]
        }
      ]
    },
    {
      "cell_type": "markdown",
      "source": [
        "#**02 Problem Statement**\n",
        "**Write a program which asks the user what their favorite animal is, and then always responds with \"My favorite animal is also ___!\" (the blank should be filled in with the user-inputted animal, of course).**\n"
      ],
      "metadata": {
        "id": "r3LS4jneclLq"
      }
    },
    {
      "cell_type": "code",
      "source": [
        "def main():\n",
        "  animal = input(\"What is your favorite animal? \")\n",
        "  print(\"My favorite animal is also \" + animal + \"!\")\n",
        "\n",
        "if __name__== '__main__':\n",
        "  main()"
      ],
      "metadata": {
        "colab": {
          "base_uri": "https://localhost:8080/"
        },
        "id": "rSLxyxGqf6Ql",
        "outputId": "929da061-d437-4fa5-e55d-7df7b7460c3f"
      },
      "execution_count": 4,
      "outputs": [
        {
          "output_type": "stream",
          "name": "stdout",
          "text": [
            "What is your favorite animal? Python\n",
            "My favorite animal is also Python!\n"
          ]
        }
      ]
    },
    {
      "cell_type": "markdown",
      "source": [
        "#**03 Problem Statement**\n",
        "**Write a program which prompts the user for a temperature in Fahrenheit (this can be a number with decimal places!) and outputs the temperature converted to Celsius.**"
      ],
      "metadata": {
        "id": "S01yadSwyIlW"
      }
    },
    {
      "cell_type": "code",
      "source": [
        "def main():\n",
        "  degrees_fahrenheit :float = float (input(\"Enter temperature in Fahrenheit: \"))\n",
        "  degrees_celsius = (degrees_fahrenheit - 32) * 5.0/9.0\n",
        "  print(f\"Temperature: {degrees_fahrenheit} F = {degrees_celsius} C\")\n",
        "\n",
        "\n",
        "if __name__ == '__main__':\n",
        "    main()"
      ],
      "metadata": {
        "colab": {
          "base_uri": "https://localhost:8080/"
        },
        "id": "216-BWwq0-Dj",
        "outputId": "5dd1a466-21e1-4337-c275-2020b0f28773"
      },
      "execution_count": 15,
      "outputs": [
        {
          "output_type": "stream",
          "name": "stdout",
          "text": [
            "Enter temperature in Fahrenheit: 56\n",
            "Temperature: 56.0 F = 13.333333333333334 C\n"
          ]
        }
      ]
    },
    {
      "cell_type": "markdown",
      "source": [
        "#**04 Problem Statement**\n",
        "**Write a program to solve this age-related riddle!**\n",
        "\n",
        "Anton, Beth, Chen, Drew, and Ethan are all friends. Their ages are as follows:\n",
        "\n",
        "Anton is 21 years old.\n",
        "\n",
        "Beth is 6 years older than Anton.\n",
        "\n",
        "Chen is 20 years older than Beth.\n",
        "\n",
        "Drew is as old as Chen's age plus Anton's age.\n",
        "\n",
        "Ethan is the same age as Chen."
      ],
      "metadata": {
        "id": "CPct0RG6rwUE"
      }
    },
    {
      "cell_type": "code",
      "source": [
        "def main():\n",
        "  anton : int = 21\n",
        "  beth : int = anton + 6\n",
        "  chen : int = beth + 20\n",
        "  drew : int = chen + anton\n",
        "  ethan : int = chen\n",
        "\n",
        "  print(\"Anton is \" + str(anton))\n",
        "  print(\"Beth is \" + str(beth))\n",
        "  print(\"Chen is \" + str(chen))\n",
        "  print(\"Drew is \" + str(drew))\n",
        "  print(\"Ethan is \" + str(ethan))\n",
        "\n",
        "if __name__ == '__main__':\n",
        "    main()"
      ],
      "metadata": {
        "colab": {
          "base_uri": "https://localhost:8080/"
        },
        "id": "teC727s-sOxA",
        "outputId": "194445c9-c146-48f6-bfc0-d49a595ca266"
      },
      "execution_count": 26,
      "outputs": [
        {
          "output_type": "stream",
          "name": "stdout",
          "text": [
            "Anton is 21\n",
            "Beth is 27\n",
            "Chen is 47\n",
            "Drew is 68\n",
            "Ethan is 47\n"
          ]
        }
      ]
    },
    {
      "cell_type": "markdown",
      "source": [
        "#**05 Problem Statemen**\n",
        "**Prompt the user to enter the lengths of each side of a triangle and then calculate and print the perimeter of the triangle (the sum of all of the side lengths).**"
      ],
      "metadata": {
        "id": "qpol4kWmvQuY"
      }
    },
    {
      "cell_type": "code",
      "source": [
        "def main():\n",
        "  side1 = float(input(\"What is the length of side 1? \"))\n",
        "  side2 = float(input(\"What is the length of side 2? \"))\n",
        "  side3 = float(input(\"What is the length of side 3? \"))\n",
        "\n",
        "  print(\"The perimeter of the triangle is \" + str(side1 + side2 + side3))\n",
        "\n",
        "if __name__ == '__main__':\n",
        "  main()"
      ],
      "metadata": {
        "colab": {
          "base_uri": "https://localhost:8080/"
        },
        "id": "dOdjMMECwLS9",
        "outputId": "0304b764-4560-4a03-ff42-8d2d61125854"
      },
      "execution_count": 32,
      "outputs": [
        {
          "output_type": "stream",
          "name": "stdout",
          "text": [
            "What is the length of side 1? 45\n",
            "What is the length of side 2? 45\n",
            "What is the length of side 3? 45\n",
            "The perimeter of the triangle is 135.0\n"
          ]
        }
      ]
    },
    {
      "cell_type": "markdown",
      "source": [
        "#**06 Problem Statement**\n",
        "**Ask the user for a number and print its square (the product of the number times itself).**"
      ],
      "metadata": {
        "id": "eQIok9Uuxv8u"
      }
    },
    {
      "cell_type": "code",
      "source": [
        "def main():\n",
        "  num = float(input(\"Type a number to see its square: \"))\n",
        "  print(str(num) + \" squared is \" + str(num**2))\n",
        "\n",
        "if __name__ == '__main__':\n",
        "  main()"
      ],
      "metadata": {
        "colab": {
          "base_uri": "https://localhost:8080/"
        },
        "id": "slLnlDhByBkD",
        "outputId": "987f556d-abda-4608-8f44-0ac6aefc1cc0"
      },
      "execution_count": 39,
      "outputs": [
        {
          "output_type": "stream",
          "name": "stdout",
          "text": [
            "Type a number to see its square: 1024\n",
            "1024.0 squared is 1048576.0\n"
          ]
        }
      ]
    }
  ]
}